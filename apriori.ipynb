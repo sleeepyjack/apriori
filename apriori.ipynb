{
 "cells": [
  {
   "cell_type": "code",
   "execution_count": 45,
   "metadata": {
    "collapsed": false
   },
   "outputs": [],
   "source": [
    "import csv \n",
    "#read file\n",
    "#input: filename as string\n",
    "#output: returns 2d list, with transactions in the rows, 1s and 0s are Integers\n",
    "def read_file(filename):\n",
    "    with open(filename,'rb') as csvfile:\n",
    "        temp = csv.reader(csvfile, delimiter=',')\n",
    "        D = list(temp)\n",
    "    #cast string to int\n",
    "    for i in range(0,len(D)):\n",
    "        D[i] = map(int, D[i])\n",
    "    return D\n",
    "\n",
    "#input: 2d list\n",
    "#output: returns transposed list\n",
    "# from one row: one transaction to one row: one item\n",
    "def transpose(D):\n",
    "    return [list(i) for i in zip(*D)]\n",
    "\n",
    "#input: 2d list\n",
    "#output: prints the list   \n",
    "def print_itemsets(D):\n",
    "    for itemset in D:\n",
    "        print itemset\n",
    "\n",
    "#input: list of itemsets D (or C_i)\n",
    "#ouput: array with frequencies for each item, e.g. [0,4,2] means first item occurs 0 times, \n",
    "#second item 4 times, third item 2 times\n",
    "def get_support_count(D):\n",
    "    count = []\n",
    "    for itemset in D:\n",
    "        count.append(itemset.count(1))\n",
    "    return count\n",
    "\n",
    "#input: \n",
    "#count: C_i, list with counts\n",
    "#minimum_support_count\n",
    "#output: returns list with indices of the itemsets that are frequent\n",
    "def get_index_of_frequent_itemsets(count, minimum_support_count):\n",
    "    return [i for i in range(0,len(frequency)) if (count[i]>minimum_support_count)]\n",
    "\n",
    "#input: list of indices of the itemsets that should stay, i.e. that are frequent\n",
    "#and list of itemsets L_i\n",
    "#output: reduced itemsets\n",
    "def get_reduced_list_of_itemsets(indices, itemsets):\n",
    "    return [itemsets[i] for i in indices]\n",
    "\n",
    "def get_tuples(itemset_number, itemset):\n",
    "     return zip(itemset_number, itemset)"
   ]
  },
  {
   "cell_type": "code",
   "execution_count": 46,
   "metadata": {
    "collapsed": false
   },
   "outputs": [
    {
     "name": "stdout",
     "output_type": "stream",
     "text": [
      "[1, 0, 0, 0, 1, 0, 0, 0, 0, 0, 0, 1, 1, 1, 0, 1, 1, 0, 1, 0]\n",
      "[0, 0, 0, 0, 0, 0, 0, 0, 0, 0, 0, 0, 0, 0, 0, 0, 0, 0, 0, 0]\n",
      "[1, 1, 1, 0, 1, 1, 0, 0, 1, 1, 1, 1, 1, 1, 1, 1, 1, 1, 1, 1]\n",
      "[1, 1, 1, 0, 1, 1, 1, 1, 0, 0, 1, 1, 1, 0, 1, 1, 1, 1, 1, 1]\n",
      "[0, 0, 0, 0, 1, 0, 0, 0, 1, 0, 0, 1, 1, 1, 0, 1, 0, 0, 1, 0]\n",
      "[0, 1, 0, 1, 1, 0, 1, 1, 1, 0, 1, 1, 1, 0, 0, 1, 1, 0, 1, 0]\n",
      "[0, 1, 1, 0, 1, 1, 1, 1, 1, 0, 1, 1, 1, 1, 1, 1, 1, 1, 1, 1]\n",
      "[0, 0, 0, 0, 0, 0, 0, 0, 0, 0, 0, 0, 0, 0, 0, 0, 0, 0, 0, 0]\n",
      "[0, 0, 0, 0, 1, 0, 0, 0, 1, 0, 0, 1, 1, 1, 0, 1, 1, 0, 1, 0]\n",
      "[0, 1, 0, 1, 0, 0, 1, 1, 0, 0, 1, 0, 1, 0, 0, 0, 0, 0, 0, 0]\n",
      "(0, [1, 0, 0, 0, 1, 0, 0, 0, 0, 0, 0, 1, 1, 1, 0, 1, 1, 0, 1, 0])\n",
      "(2, [1, 1, 1, 0, 1, 1, 0, 0, 1, 1, 1, 1, 1, 1, 1, 1, 1, 1, 1, 1])\n",
      "(3, [1, 1, 1, 0, 1, 1, 1, 1, 0, 0, 1, 1, 1, 0, 1, 1, 1, 1, 1, 1])\n",
      "(4, [0, 0, 0, 0, 1, 0, 0, 0, 1, 0, 0, 1, 1, 1, 0, 1, 0, 0, 1, 0])\n",
      "(5, [0, 1, 0, 1, 1, 0, 1, 1, 1, 0, 1, 1, 1, 0, 0, 1, 1, 0, 1, 0])\n",
      "(6, [0, 1, 1, 0, 1, 1, 1, 1, 1, 0, 1, 1, 1, 1, 1, 1, 1, 1, 1, 1])\n",
      "(8, [0, 0, 0, 0, 1, 0, 0, 0, 1, 0, 0, 1, 1, 1, 0, 1, 1, 0, 1, 0])\n",
      "(9, [0, 1, 0, 1, 0, 0, 1, 1, 0, 0, 1, 0, 1, 0, 0, 0, 0, 0, 0, 0])\n"
     ]
    }
   ],
   "source": [
    "filename = 'dm1.csv'\n",
    "minimum_support_count = 5\n",
    "\n",
    "D = transpose(read_file(filename))\n",
    "print_itemsets(D)\n",
    "\n",
    "indices = get_index_of_frequent_itemsets(get_support_count(D), minimum_support_count)\n",
    "frequent_itemsets = get_reduced_list_of_itemsets(indices, D)\n",
    "\n",
    "#work with tuples, so we can keep track of WHICH itemset we're talking about\n",
    "tuples = get_tuples(indices, frequent_itemsets)\n",
    "for tuple in tuples:\n",
    "    print tuple"
   ]
  },
  {
   "cell_type": "code",
   "execution_count": null,
   "metadata": {
    "collapsed": true
   },
   "outputs": [],
   "source": []
  }
 ],
 "metadata": {
  "kernelspec": {
   "display_name": "Python 2",
   "language": "python",
   "name": "python2"
  },
  "language_info": {
   "codemirror_mode": {
    "name": "ipython",
    "version": 2
   },
   "file_extension": ".py",
   "mimetype": "text/x-python",
   "name": "python",
   "nbconvert_exporter": "python",
   "pygments_lexer": "ipython2",
   "version": "2.7.12"
  }
 },
 "nbformat": 4,
 "nbformat_minor": 0
}
